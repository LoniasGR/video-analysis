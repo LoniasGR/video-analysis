{
 "cells": [
  {
   "cell_type": "markdown",
   "metadata": {
    "colab_type": "text",
    "id": "naiDX_DXBOtm"
   },
   "source": [
    "# Βασικά shortcuts\n",
    "\n",
    "**Esc** will take you into command mode where you can navigate around your notebook with arrow k\n",
    "\n",
    "Ειδικά στο Colab πηγαίνουμε σε Command mode με Ctrl+M\n",
    "\n",
    "While in command mode:\n",
    "\n",
    "**A** to insert a new cell above the current cell, **B** to insert a new cell below.\n",
    "\n",
    "**M** to change the current cell to Markdown, **Y** to change it back to code\n",
    "\n",
    "**D + D** (press the key twice) to delete the current cell\n",
    "\n",
    "**Enter** will take you from command mode back into edit mode for the given cell.\n",
    "\n",
    "**Shift+Enter:** \"run\" cell"
   ]
  },
  {
   "cell_type": "markdown",
   "metadata": {
    "colab_type": "text",
    "id": "XhYb9XnVBOtz"
   },
   "source": [
    "# Κώδικας"
   ]
  },
  {
   "cell_type": "code",
   "execution_count": 2,
   "metadata": {
    "colab": {
     "base_uri": "https://localhost:8080/",
     "height": 384
    },
    "colab_type": "code",
    "executionInfo": {
     "elapsed": 2784,
     "status": "ok",
     "timestamp": 1583754060068,
     "user": {
      "displayName": "George Tsatiris",
      "photoUrl": "https://lh3.googleusercontent.com/a-/AOh14GiwBAqDNcJQEsOKpxqRB16QLb6LtWjG6K_TDyVK=s64",
      "userId": "02159147374553663960"
     },
     "user_tz": -120
    },
    "id": "Nyqg-Sk4BOt9",
    "outputId": "f61f334f-53ea-4fb3-e541-fae667464153"
   },
   "outputs": [
    {
     "name": "stdout",
     "output_type": "stream",
     "text": [
      "1\n",
      "2\n",
      "3\n",
      "4\n",
      "5\n",
      "6\n",
      "7\n",
      "8\n",
      "9\n",
      "10\n",
      "1\n",
      "2\n",
      "3\n",
      "4\n",
      "5\n",
      "6\n",
      "7\n",
      "8\n",
      "9\n",
      "10\n"
     ]
    }
   ],
   "source": [
    "i = 1\n",
    "while i <= 10:\n",
    "    print(i)\n",
    "    i = i +1\n",
    "\n"
   ]
  },
  {
   "cell_type": "markdown",
   "metadata": {
    "colab_type": "text",
    "id": "OzFgiv0kBOu9"
   },
   "source": [
    "# LaTeX2"
   ]
  },
  {
   "cell_type": "markdown",
   "metadata": {
    "colab_type": "text",
    "id": "7pf42fqvG-UI"
   },
   "source": []
  },
  {
   "cell_type": "markdown",
   "metadata": {
    "colab_type": "text",
    "id": "SKwEzsrKBOvI"
   },
   "source": [
    "$\\sum_{i=1}^{10} t_i$\n",
    "\n",
    "[LaTeX](https://en.wikibooks.org/wiki/LaTeX/Mathematics)"
   ]
  },
  {
   "cell_type": "markdown",
   "metadata": {
    "colab_type": "text",
    "id": "C3hfy6LVBOvS"
   },
   "source": [
    "# Markdown\n",
    "# Τίτλος\n",
    "## Υπότιτλος\n",
    "### Υπό-υπότιτλος\n",
    "\n",
    "*Πλάγια*\n",
    "\n",
    "**Έντονα**"
   ]
  },
  {
   "cell_type": "markdown",
   "metadata": {
    "colab_type": "text",
    "id": "h2r5Oz_nBOvX"
   },
   "source": [
    "# Επίσης\n",
    "- Documentation\n",
    "- Autocomplete (με Tab)\n",
    "- Checkpoints\n",
    "- Download as. Μπορούμε να μεταφέρουμε το notebook σε όλα τα clouds"
   ]
  },
  {
   "cell_type": "markdown",
   "metadata": {
    "colab_type": "text",
    "id": "AfwEuynLBOvh"
   },
   "source": [
    "# OS Commands \n",
    "\n",
    "(start with \"!\")"
   ]
  },
  {
   "cell_type": "code",
   "execution_count": 1,
   "metadata": {
    "colab": {
     "base_uri": "https://localhost:8080/",
     "height": 1000
    },
    "colab_type": "code",
    "executionInfo": {
     "elapsed": 15138,
     "status": "ok",
     "timestamp": 1583754072427,
     "user": {
      "displayName": "George Tsatiris",
      "photoUrl": "https://lh3.googleusercontent.com/a-/AOh14GiwBAqDNcJQEsOKpxqRB16QLb6LtWjG6K_TDyVK=s64",
      "userId": "02159147374553663960"
     },
     "user_tz": -120
    },
    "id": "ifHUEJvRBOvq",
    "outputId": "380b1a23-8cd8-4e56-f535-5c717dca6faf"
   },
   "outputs": [
    {
     "name": "stdout",
     "output_type": "stream",
     "text": [
      "Package                Version   \n",
      "---------------------- ----------\n",
      "asn1crypto             1.2.0     \n",
      "attrs                  19.3.0    \n",
      "audioread              2.1.8     \n",
      "backcall               0.1.0     \n",
      "bleach                 3.1.0     \n",
      "boto                   2.49.0    \n",
      "boto3                  1.11.0    \n",
      "botocore               1.14.0    \n",
      "bz2file                0.98      \n",
      "certifi                2019.11.28\n",
      "cffi                   1.13.0    \n",
      "chardet                3.0.4     \n",
      "cloudpickle            1.2.2     \n",
      "conda                  4.8.2     \n",
      "conda-package-handling 1.6.0     \n",
      "cryptography           2.8       \n",
      "cycler                 0.10.0    \n",
      "Cython                 0.29.14   \n",
      "cytoolz                0.10.1    \n",
      "dask                   2.9.0     \n",
      "decorator              4.4.1     \n",
      "defusedxml             0.6.0     \n",
      "docutils               0.15.2    \n",
      "entrypoints            0.3       \n",
      "gensim                 3.8.0     \n",
      "idna                   2.8       \n",
      "imageio                2.6.1     \n",
      "importlib-metadata     1.3.0     \n",
      "ipykernel              5.1.3     \n",
      "ipython                7.10.2    \n",
      "ipython-genutils       0.2.0     \n",
      "ipywidgets             7.5.1     \n",
      "jedi                   0.15.1    \n",
      "Jinja2                 2.10.3    \n",
      "jmespath               0.9.4     \n",
      "joblib                 0.14.1    \n",
      "json5                  0.8.5     \n",
      "jsonschema             3.2.0     \n",
      "jupyter                1.0.0     \n",
      "jupyter-client         5.3.4     \n",
      "jupyter-console        6.0.0     \n",
      "jupyter-core           4.6.1     \n",
      "jupyterlab             1.2.4     \n",
      "jupyterlab-server      1.0.6     \n",
      "kiwisolver             1.1.0     \n",
      "librosa                0.7.1     \n",
      "llvmlite               0.30.0    \n",
      "MarkupSafe             1.1.1     \n",
      "matplotlib             3.1.1     \n",
      "mistune                0.8.4     \n",
      "mkl-fft                1.0.15    \n",
      "mkl-random             1.1.0     \n",
      "mkl-service            2.3.0     \n",
      "more-itertools         8.0.2     \n",
      "nbconvert              5.6.1     \n",
      "nbformat               4.4.0     \n",
      "networkx               2.4       \n",
      "nltk                   3.4.5     \n",
      "notebook               6.0.2     \n",
      "numba                  0.46.0    \n",
      "numpy                  1.17.4    \n",
      "olefile                0.46      \n",
      "packaging              20.1      \n",
      "pandas                 0.25.3    \n",
      "pandocfilters          1.4.2     \n",
      "parso                  0.5.2     \n",
      "patsy                  0.5.1     \n",
      "pexpect                4.7.0     \n",
      "pickleshare            0.7.5     \n",
      "Pillow                 6.2.1     \n",
      "pip                    19.3.1    \n",
      "pluggy                 0.13.1    \n",
      "prometheus-client      0.7.1     \n",
      "prompt-toolkit         2.0.9     \n",
      "ptyprocess             0.6.0     \n",
      "py                     1.8.1     \n",
      "pycosat                0.6.3     \n",
      "pycparser              2.19      \n",
      "Pygments               2.5.2     \n",
      "pyOpenSSL              19.0.0    \n",
      "pyparsing              2.4.5     \n",
      "pyrsistent             0.15.6    \n",
      "PySocks                1.7.1     \n",
      "pytest                 5.3.5     \n",
      "python-dateutil        2.8.1     \n",
      "pytz                   2019.3    \n",
      "PyWavelets             1.1.1     \n",
      "pyzmq                  18.1.0    \n",
      "qtconsole              4.6.0     \n",
      "requests               2.22.0    \n",
      "resampy                0.2.2     \n",
      "ruamel-yaml            0.15.46   \n",
      "s3transfer             0.3.0     \n",
      "scikit-image           0.15.0    \n",
      "scikit-learn           0.22      \n",
      "scipy                  1.3.2     \n",
      "seaborn                0.9.0     \n",
      "Send2Trash             1.5.0     \n",
      "setuptools             41.4.0    \n",
      "six                    1.12.0    \n",
      "smart-open             1.9.0     \n",
      "SoundFile              0.10.2    \n",
      "statsmodels            0.10.2    \n",
      "terminado              0.8.3     \n",
      "testpath               0.4.4     \n",
      "toolz                  0.10.0    \n",
      "torch                  1.3.1     \n",
      "torchfile              0.1.0     \n",
      "torchvision            0.4.2     \n",
      "tornado                6.0.3     \n",
      "tqdm                   4.40.2    \n",
      "traitlets              4.3.3     \n",
      "urllib3                1.24.2    \n",
      "visdom                 0.1.8.9   \n",
      "wcwidth                0.1.7     \n",
      "webencodings           0.5.1     \n",
      "websocket-client       0.56.0    \n",
      "wheel                  0.33.6    \n",
      "widgetsnbextension     3.5.1     \n",
      "zipp                   0.6.0     \n"
     ]
    }
   ],
   "source": [
    "!pip list"
   ]
  },
  {
   "cell_type": "markdown",
   "metadata": {
    "colab_type": "text",
    "id": "KZm8AG26BOwZ"
   },
   "source": [
    "upgrade pip"
   ]
  },
  {
   "cell_type": "code",
   "execution_count": 2,
   "metadata": {
    "colab": {
     "base_uri": "https://localhost:8080/",
     "height": 164
    },
    "colab_type": "code",
    "executionInfo": {
     "elapsed": 21789,
     "status": "ok",
     "timestamp": 1583754079080,
     "user": {
      "displayName": "George Tsatiris",
      "photoUrl": "https://lh3.googleusercontent.com/a-/AOh14GiwBAqDNcJQEsOKpxqRB16QLb6LtWjG6K_TDyVK=s64",
      "userId": "02159147374553663960"
     },
     "user_tz": -120
    },
    "id": "cjWjOjsLBOwk",
    "outputId": "add74bc2-2df3-4f67-edaa-17e31fdba5bd",
    "scrolled": true
   },
   "outputs": [
    {
     "name": "stdout",
     "output_type": "stream",
     "text": [
      "Collecting pip\n",
      "\u001b[?25l  Downloading https://files.pythonhosted.org/packages/54/0c/d01aa759fdc501a58f431eb594a17495f15b88da142ce14b5845662c13f3/pip-20.0.2-py2.py3-none-any.whl (1.4MB)\n",
      "\u001b[K     |████████████████████████████████| 1.4MB 626kB/s eta 0:00:01\n",
      "\u001b[?25hInstalling collected packages: pip\n",
      "  Found existing installation: pip 19.3.1\n",
      "    Uninstalling pip-19.3.1:\n",
      "      Successfully uninstalled pip-19.3.1\n",
      "Successfully installed pip-20.0.2\n"
     ]
    }
   ],
   "source": [
    "!pip install --upgrade pip"
   ]
  },
  {
   "cell_type": "markdown",
   "metadata": {
    "colab_type": "text",
    "id": "RDfe4Mv2BOw8"
   },
   "source": [
    "upgrade package"
   ]
  },
  {
   "cell_type": "code",
   "execution_count": 5,
   "metadata": {
    "colab": {
     "base_uri": "https://localhost:8080/",
     "height": 237
    },
    "colab_type": "code",
    "executionInfo": {
     "elapsed": 29932,
     "status": "ok",
     "timestamp": 1583754087226,
     "user": {
      "displayName": "George Tsatiris",
      "photoUrl": "https://lh3.googleusercontent.com/a-/AOh14GiwBAqDNcJQEsOKpxqRB16QLb6LtWjG6K_TDyVK=s64",
      "userId": "02159147374553663960"
     },
     "user_tz": -120
    },
    "id": "taFrDT-wBOxE",
    "outputId": "01ba2365-9bf8-4b95-e7f1-a5ca67d142dc"
   },
   "outputs": [
    {
     "name": "stdout",
     "output_type": "stream",
     "text": [
      "Collecting scikit-learn\n",
      "  Downloading scikit_learn-0.22.2.post1-cp36-cp36m-manylinux1_x86_64.whl (7.1 MB)\n",
      "\u001b[K     |████████████████████████████████| 7.1 MB 1.2 MB/s \n",
      "\u001b[?25hRequirement already satisfied, skipping upgrade: joblib>=0.11 in /usr/local/lib/python3.6/dist-packages (from scikit-learn) (0.14.1)\n",
      "Requirement already satisfied, skipping upgrade: scipy>=0.17.0 in /usr/local/lib/python3.6/dist-packages (from scikit-learn) (1.4.1)\n",
      "Requirement already satisfied, skipping upgrade: numpy>=1.11.0 in /usr/local/lib/python3.6/dist-packages (from scikit-learn) (1.17.5)\n",
      "Installing collected packages: scikit-learn\n",
      "  Attempting uninstall: scikit-learn\n",
      "    Found existing installation: scikit-learn 0.22.1\n",
      "    Uninstalling scikit-learn-0.22.1:\n",
      "      Successfully uninstalled scikit-learn-0.22.1\n",
      "Successfully installed scikit-learn-0.22.2.post1\n"
     ]
    }
   ],
   "source": [
    "!pip install --upgrade scikit-learn"
   ]
  },
  {
   "cell_type": "markdown",
   "metadata": {
    "colab_type": "text",
    "id": "HMZ4CPx_BO4e"
   },
   "source": [
    "# Εισαγωγή βιβλιοθηκών"
   ]
  },
  {
   "cell_type": "code",
   "execution_count": null,
   "metadata": {
    "colab": {},
    "colab_type": "code",
    "id": "01aXjWraBO4j"
   },
   "outputs": [],
   "source": [
    "import pandas \n",
    "import numpy as np\n",
    "import scipy as sp"
   ]
  },
  {
   "cell_type": "markdown",
   "metadata": {
    "colab_type": "text",
    "id": "gGRM80j4BO41"
   },
   "source": [
    "# Ένα pandas dataframe"
   ]
  },
  {
   "cell_type": "code",
   "execution_count": 7,
   "metadata": {
    "colab": {
     "base_uri": "https://localhost:8080/",
     "height": 421
    },
    "colab_type": "code",
    "executionInfo": {
     "elapsed": 31218,
     "status": "ok",
     "timestamp": 1583754088518,
     "user": {
      "displayName": "George Tsatiris",
      "photoUrl": "https://lh3.googleusercontent.com/a-/AOh14GiwBAqDNcJQEsOKpxqRB16QLb6LtWjG6K_TDyVK=s64",
      "userId": "02159147374553663960"
     },
     "user_tz": -120
    },
    "id": "zadu9DweBO47",
    "outputId": "f084d84f-3045-48b3-fed6-f7f5483118eb"
   },
   "outputs": [
    {
     "name": "stdout",
     "output_type": "stream",
     "text": [
      "        School  Women  Men  Gap\n",
      "0          MIT     94  152   58\n",
      "1     Stanford     96  151   55\n",
      "2      Harvard    112  165   53\n",
      "3       U.Penn     92  141   49\n",
      "4    Princeton     90  137   47\n",
      "5      Chicago     78  118   40\n",
      "6   Georgetown     94  131   37\n",
      "7        Tufts     76  112   36\n",
      "8         Yale     79  114   35\n",
      "9     Columbia     86  119   33\n",
      "10        Duke     93  124   31\n",
      "11   Dartmouth     84  114   30\n",
      "12         NYU     67   94   27\n",
      "13  Notre Dame     73  100   27\n",
      "14     Cornell     80  107   27\n",
      "15    Michigan     62   84   22\n",
      "16       Brown     72   92   20\n",
      "17    Berkeley     71   88   17\n",
      "18       Emory     68   82   14\n",
      "19        UCLA     64   78   14\n",
      "20       SoCal     72   81    9\n"
     ]
    }
   ],
   "source": [
    "df = pandas.read_csv(\"https://raw.githubusercontent.com/plotly/datasets/master/school_earnings.csv\")\n",
    "df = pandas.DataFrame(df)\n",
    "print(df)"
   ]
  },
  {
   "cell_type": "markdown",
   "metadata": {
    "colab_type": "text",
    "id": "pbwx2LecBO5i"
   },
   "source": [
    "Τα cells πρέπει να εκτελεστούν όλα για να πάρουν τιμές οι μεταβλητές (Run all - run all above). Πχ το επόμενο δεν θα δουλέψει (την πρώτη φορά):"
   ]
  },
  {
   "cell_type": "code",
   "execution_count": 8,
   "metadata": {
    "colab": {
     "base_uri": "https://localhost:8080/",
     "height": 191
    },
    "colab_type": "code",
    "executionInfo": {
     "elapsed": 33398,
     "status": "error",
     "timestamp": 1583754090702,
     "user": {
      "displayName": "George Tsatiris",
      "photoUrl": "https://lh3.googleusercontent.com/a-/AOh14GiwBAqDNcJQEsOKpxqRB16QLb6LtWjG6K_TDyVK=s64",
      "userId": "02159147374553663960"
     },
     "user_tz": -120
    },
    "id": "u0g7I7a4BO5o",
    "outputId": "2c7dc800-2e78-4645-95c6-05201eec9250"
   },
   "outputs": [
    {
     "ename": "NameError",
     "evalue": "ignored",
     "output_type": "error",
     "traceback": [
      "\u001b[0;31m---------------------------------------------------------------------------\u001b[0m",
      "\u001b[0;31mNameError\u001b[0m                                 Traceback (most recent call last)",
      "\u001b[0;32m<ipython-input-8-c8eaf2b034c4>\u001b[0m in \u001b[0;36m<module>\u001b[0;34m()\u001b[0m\n\u001b[0;32m----> 1\u001b[0;31m \u001b[0mx\u001b[0m \u001b[0;34m=\u001b[0m \u001b[0my\u001b[0m\u001b[0;34m*\u001b[0m\u001b[0my\u001b[0m\u001b[0;34m\u001b[0m\u001b[0;34m\u001b[0m\u001b[0m\n\u001b[0m\u001b[1;32m      2\u001b[0m \u001b[0mprint\u001b[0m\u001b[0;34m(\u001b[0m\u001b[0mx\u001b[0m\u001b[0;34m)\u001b[0m\u001b[0;34m\u001b[0m\u001b[0;34m\u001b[0m\u001b[0m\n",
      "\u001b[0;31mNameError\u001b[0m: name 'y' is not defined"
     ]
    }
   ],
   "source": [
    "x = y*y\n",
    "print(x)"
   ]
  },
  {
   "cell_type": "code",
   "execution_count": null,
   "metadata": {
    "colab": {},
    "colab_type": "code",
    "id": "KkTWFOVdBO6E"
   },
   "outputs": [],
   "source": [
    "y = 2"
   ]
  },
  {
   "cell_type": "markdown",
   "metadata": {
    "colab_type": "text",
    "id": "tM9fYESoBO6k"
   },
   "source": [
    "Το επόμενο θα δουλέψει (κάντε run all)"
   ]
  },
  {
   "cell_type": "code",
   "execution_count": 14,
   "metadata": {
    "colab": {
     "base_uri": "https://localhost:8080/",
     "height": 35
    },
    "colab_type": "code",
    "executionInfo": {
     "elapsed": 2326,
     "status": "ok",
     "timestamp": 1583754449979,
     "user": {
      "displayName": "George Tsatiris",
      "photoUrl": "https://lh3.googleusercontent.com/a-/AOh14GiwBAqDNcJQEsOKpxqRB16QLb6LtWjG6K_TDyVK=s64",
      "userId": "02159147374553663960"
     },
     "user_tz": -120
    },
    "id": "wJYmLQgjBO6v",
    "outputId": "9bd603bd-7754-4889-ed53-f680808d03e9"
   },
   "outputs": [
    {
     "name": "stdout",
     "output_type": "stream",
     "text": [
      "4\n"
     ]
    }
   ],
   "source": [
    "x = y * y\n",
    "print(x)\n"
   ]
  },
  {
   "cell_type": "markdown",
   "metadata": {
    "colab_type": "text",
    "id": "zAafkqA8BO6-"
   },
   "source": [
    "# Kernel\n",
    "- Restart\n",
    "- Restart & Clear output\n",
    "- Restart & Run all"
   ]
  },
  {
   "cell_type": "markdown",
   "metadata": {
    "colab_type": "text",
    "id": "6xLgJamxBO7G"
   },
   "source": [
    "Αν το x πάρει τιμή (έστω μεταγενέστερα) τοτε τρέχοντας το cell δεν θα βγει λάθος"
   ]
  },
  {
   "cell_type": "markdown",
   "metadata": {
    "colab_type": "text",
    "id": "6oUAcWjwBO7K"
   },
   "source": [
    "# Magic commands\n",
    "\n",
    "[magic](https://ipython.readthedocs.io/en/stable/interactive/magics.html)\n",
    "\n",
    "ένα μονό \"%\" είναι magic για τη γραμμή, ένα διπλό είναι magic για το cell"
   ]
  },
  {
   "cell_type": "code",
   "execution_count": 22,
   "metadata": {
    "colab": {
     "base_uri": "https://localhost:8080/",
     "height": 1000
    },
    "colab_type": "code",
    "executionInfo": {
     "elapsed": 765,
     "status": "ok",
     "timestamp": 1583754562096,
     "user": {
      "displayName": "George Tsatiris",
      "photoUrl": "https://lh3.googleusercontent.com/a-/AOh14GiwBAqDNcJQEsOKpxqRB16QLb6LtWjG6K_TDyVK=s64",
      "userId": "02159147374553663960"
     },
     "user_tz": -120
    },
    "id": "nhZxoMURBO7R",
    "outputId": "d2b67142-9ef6-4b16-88e8-c6d15bacdc6e"
   },
   "outputs": [
    {
     "name": "stdout",
     "output_type": "stream",
     "text": [
      "0\n",
      "1\n",
      "2\n",
      "3\n",
      "4\n",
      "5\n",
      "6\n",
      "7\n",
      "8\n",
      "9\n",
      "10\n",
      "11\n",
      "12\n",
      "13\n",
      "14\n",
      "15\n",
      "16\n",
      "17\n",
      "18\n",
      "19\n",
      "20\n",
      "21\n",
      "22\n",
      "23\n",
      "24\n",
      "25\n",
      "26\n",
      "27\n",
      "28\n",
      "29\n",
      "30\n",
      "31\n",
      "32\n",
      "33\n",
      "34\n",
      "35\n",
      "36\n",
      "37\n",
      "38\n",
      "39\n",
      "40\n",
      "41\n",
      "42\n",
      "43\n",
      "44\n",
      "45\n",
      "46\n",
      "47\n",
      "48\n",
      "49\n",
      "50\n",
      "51\n",
      "52\n",
      "53\n",
      "54\n",
      "55\n",
      "56\n",
      "57\n",
      "58\n",
      "59\n",
      "60\n",
      "61\n",
      "62\n",
      "63\n",
      "64\n",
      "65\n",
      "66\n",
      "67\n",
      "68\n",
      "69\n",
      "70\n",
      "71\n",
      "72\n",
      "73\n",
      "74\n",
      "75\n",
      "76\n",
      "77\n",
      "78\n",
      "79\n",
      "80\n",
      "81\n",
      "82\n",
      "83\n",
      "84\n",
      "85\n",
      "86\n",
      "87\n",
      "88\n",
      "89\n",
      "90\n",
      "91\n",
      "92\n",
      "93\n",
      "94\n",
      "95\n",
      "96\n",
      "97\n",
      "98\n",
      "99\n"
     ]
    }
   ],
   "source": [
    "x = range(100)\n",
    "for n in x:\n",
    "    print(n)"
   ]
  },
  {
   "cell_type": "code",
   "execution_count": 16,
   "metadata": {
    "colab": {
     "base_uri": "https://localhost:8080/",
     "height": 54
    },
    "colab_type": "code",
    "executionInfo": {
     "elapsed": 8697,
     "status": "ok",
     "timestamp": 1583754456368,
     "user": {
      "displayName": "George Tsatiris",
      "photoUrl": "https://lh3.googleusercontent.com/a-/AOh14GiwBAqDNcJQEsOKpxqRB16QLb6LtWjG6K_TDyVK=s64",
      "userId": "02159147374553663960"
     },
     "user_tz": -120
    },
    "id": "4ZezoyA2BO7n",
    "outputId": "4e1032f6-57c2-4d90-e072-6e936322de18"
   },
   "outputs": [
    {
     "name": "stdout",
     "output_type": "stream",
     "text": [
      "The slowest run took 6.81 times longer than the fastest. This could mean that an intermediate result is being cached.\n",
      "10000000 loops, best of 3: 151 ns per loop\n"
     ]
    }
   ],
   "source": [
    "%timeit x = range(100)"
   ]
  },
  {
   "cell_type": "code",
   "execution_count": null,
   "metadata": {
    "colab": {},
    "colab_type": "code",
    "id": "ieaBoVSEdCRL"
   },
   "outputs": [],
   "source": []
  },
  {
   "cell_type": "code",
   "execution_count": 17,
   "metadata": {
    "colab": {
     "base_uri": "https://localhost:8080/",
     "height": 35
    },
    "colab_type": "code",
    "executionInfo": {
     "elapsed": 8694,
     "status": "ok",
     "timestamp": 1583754456376,
     "user": {
      "displayName": "George Tsatiris",
      "photoUrl": "https://lh3.googleusercontent.com/a-/AOh14GiwBAqDNcJQEsOKpxqRB16QLb6LtWjG6K_TDyVK=s64",
      "userId": "02159147374553663960"
     },
     "user_tz": -120
    },
    "id": "GSq16imXBO8w",
    "outputId": "ba172bdb-d95d-4ada-b4f0-2256ed9cdd78"
   },
   "outputs": [
    {
     "name": "stdout",
     "output_type": "stream",
     "text": [
      "Writing pythoncode.py\n"
     ]
    }
   ],
   "source": [
    "%%writefile pythoncode.py\n",
    "\n",
    "import numpy\n",
    "def append_if_not_exists(arr, x):\n",
    "    if x not in arr:\n",
    "        arr.append(x)\n",
    "\n",
    "def some_useless_slow_function():\n",
    "    arr = list()\n",
    "    for i in range(10000):\n",
    "        x = numpy.random.randint(0, 10000)\n",
    "        append_if_not_exists(arr, x)"
   ]
  },
  {
   "cell_type": "code",
   "execution_count": 18,
   "metadata": {
    "colab": {
     "base_uri": "https://localhost:8080/",
     "height": 237
    },
    "colab_type": "code",
    "executionInfo": {
     "elapsed": 18368,
     "status": "ok",
     "timestamp": 1583754466056,
     "user": {
      "displayName": "George Tsatiris",
      "photoUrl": "https://lh3.googleusercontent.com/a-/AOh14GiwBAqDNcJQEsOKpxqRB16QLb6LtWjG6K_TDyVK=s64",
      "userId": "02159147374553663960"
     },
     "user_tz": -120
    },
    "id": "Ko7v9q1FBO9S",
    "outputId": "943be6a6-ce28-4289-d8e2-f7efb7da4fba"
   },
   "outputs": [
    {
     "name": "stdout",
     "output_type": "stream",
     "text": [
      "pythoncode.py  sample_data\n",
      "\n",
      "import numpy\n",
      "def append_if_not_exists(arr, x):\n",
      "    if x not in arr:\n",
      "        arr.append(x)\n",
      "\n",
      "def some_useless_slow_function():\n",
      "    arr = list()\n",
      "    for i in range(10000):\n",
      "        x = numpy.random.randint(0, 10000)\n",
      "        append_if_not_exists(arr, x)"
     ]
    }
   ],
   "source": [
    "!ls\n",
    "!cat pythoncode.py"
   ]
  },
  {
   "cell_type": "code",
   "execution_count": null,
   "metadata": {
    "colab": {},
    "colab_type": "code",
    "id": "0VERnZxvwE-D"
   },
   "outputs": [],
   "source": [
    "from google.colab import files\n",
    "files.download('pythoncode.py')"
   ]
  },
  {
   "cell_type": "markdown",
   "metadata": {
    "colab_type": "text",
    "id": "xLdtl-seBO90"
   },
   "source": [
    "Επιβεβαιώστε ότι το pythoncode.py υπάρχει και στο library σας."
   ]
  },
  {
   "cell_type": "markdown",
   "metadata": {
    "colab_type": "text",
    "id": "y-FYCm4gBO99"
   },
   "source": [
    "# Γραφικά"
   ]
  },
  {
   "cell_type": "code",
   "execution_count": 20,
   "metadata": {
    "colab": {
     "base_uri": "https://localhost:8080/",
     "height": 281
    },
    "colab_type": "code",
    "executionInfo": {
     "elapsed": 23335,
     "status": "ok",
     "timestamp": 1583754471035,
     "user": {
      "displayName": "George Tsatiris",
      "photoUrl": "https://lh3.googleusercontent.com/a-/AOh14GiwBAqDNcJQEsOKpxqRB16QLb6LtWjG6K_TDyVK=s64",
      "userId": "02159147374553663960"
     },
     "user_tz": -120
    },
    "id": "-N1GXraGBO-H",
    "outputId": "a48390cf-59d6-4304-b12f-122475c21063"
   },
   "outputs": [
    {
     "data": {
      "image/png": "[encoded data removed]",
      "text/plain": [
       "<Figure size 432x288 with 1 Axes>"
      ]
     },
     "metadata": {
      "tags": []
     },
     "output_type": "display_data"
    }
   ],
   "source": [
    "%matplotlib inline\n",
    "import matplotlib.pyplot as plt\n",
    "import numpy as np\n",
    "\n",
    "x = np.linspace(0, 3*np.pi, 500)\n",
    "plt.plot(x, np.sin(x**2))\n",
    "plt.title('A simple chirp');"
   ]
  },
  {
   "cell_type": "markdown",
   "metadata": {
    "colab_type": "text",
    "id": "LZsPVqGBBO-g"
   },
   "source": [
    "# Εισαγωγή δεδομένων\n",
    "\n",
    "Colab: στο αριστερό sidebar tab Files -> Upload\n",
    "Azure: Στο library -> new -> from computer και κάντε upload το sample.csv (από το mycourses)"
   ]
  },
  {
   "cell_type": "code",
   "execution_count": 21,
   "metadata": {
    "colab": {
     "base_uri": "https://localhost:8080/",
     "height": 453
    },
    "colab_type": "code",
    "executionInfo": {
     "elapsed": 23341,
     "status": "error",
     "timestamp": 1583754471045,
     "user": {
      "displayName": "George Tsatiris",
      "photoUrl": "https://lh3.googleusercontent.com/a-/AOh14GiwBAqDNcJQEsOKpxqRB16QLb6LtWjG6K_TDyVK=s64",
      "userId": "02159147374553663960"
     },
     "user_tz": -120
    },
    "id": "jAAjpRE2BO-k",
    "outputId": "343e5608-700c-49c6-d92c-b1d77a39b497"
   },
   "outputs": [
    {
     "ename": "FileNotFoundError",
     "evalue": "ignored",
     "output_type": "error",
     "traceback": [
      "\u001b[0;31m---------------------------------------------------------------------------\u001b[0m",
      "\u001b[0;31mFileNotFoundError\u001b[0m                         Traceback (most recent call last)",
      "\u001b[0;32m<ipython-input-21-cd521f8a6318>\u001b[0m in \u001b[0;36m<module>\u001b[0;34m()\u001b[0m\n\u001b[1;32m      1\u001b[0m \u001b[0;32mimport\u001b[0m \u001b[0mpandas\u001b[0m \u001b[0;32mas\u001b[0m \u001b[0mpd\u001b[0m\u001b[0;34m\u001b[0m\u001b[0;34m\u001b[0m\u001b[0m\n\u001b[0;32m----> 2\u001b[0;31m \u001b[0mdf2\u001b[0m \u001b[0;34m=\u001b[0m \u001b[0mpd\u001b[0m\u001b[0;34m.\u001b[0m\u001b[0mread_csv\u001b[0m\u001b[0;34m(\u001b[0m\u001b[0;34m\"sample.csv\"\u001b[0m\u001b[0;34m)\u001b[0m\u001b[0;34m\u001b[0m\u001b[0;34m\u001b[0m\u001b[0m\n\u001b[0m\u001b[1;32m      3\u001b[0m \u001b[0;34m\u001b[0m\u001b[0m\n\u001b[1;32m      4\u001b[0m \u001b[0mdf2\u001b[0m\u001b[0;34m\u001b[0m\u001b[0;34m\u001b[0m\u001b[0m\n",
      "\u001b[0;32m/usr/local/lib/python3.6/dist-packages/pandas/io/parsers.py\u001b[0m in \u001b[0;36mparser_f\u001b[0;34m(filepath_or_buffer, sep, delimiter, header, names, index_col, usecols, squeeze, prefix, mangle_dupe_cols, dtype, engine, converters, true_values, false_values, skipinitialspace, skiprows, skipfooter, nrows, na_values, keep_default_na, na_filter, verbose, skip_blank_lines, parse_dates, infer_datetime_format, keep_date_col, date_parser, dayfirst, cache_dates, iterator, chunksize, compression, thousands, decimal, lineterminator, quotechar, quoting, doublequote, escapechar, comment, encoding, dialect, error_bad_lines, warn_bad_lines, delim_whitespace, low_memory, memory_map, float_precision)\u001b[0m\n\u001b[1;32m    683\u001b[0m         )\n\u001b[1;32m    684\u001b[0m \u001b[0;34m\u001b[0m\u001b[0m\n\u001b[0;32m--> 685\u001b[0;31m         \u001b[0;32mreturn\u001b[0m \u001b[0m_read\u001b[0m\u001b[0;34m(\u001b[0m\u001b[0mfilepath_or_buffer\u001b[0m\u001b[0;34m,\u001b[0m \u001b[0mkwds\u001b[0m\u001b[0;34m)\u001b[0m\u001b[0;34m\u001b[0m\u001b[0;34m\u001b[0m\u001b[0m\n\u001b[0m\u001b[1;32m    686\u001b[0m \u001b[0;34m\u001b[0m\u001b[0m\n\u001b[1;32m    687\u001b[0m     \u001b[0mparser_f\u001b[0m\u001b[0;34m.\u001b[0m\u001b[0m__name__\u001b[0m \u001b[0;34m=\u001b[0m \u001b[0mname\u001b[0m\u001b[0;34m\u001b[0m\u001b[0;34m\u001b[0m\u001b[0m\n",
      "\u001b[0;32m/usr/local/lib/python3.6/dist-packages/pandas/io/parsers.py\u001b[0m in \u001b[0;36m_read\u001b[0;34m(filepath_or_buffer, kwds)\u001b[0m\n\u001b[1;32m    455\u001b[0m \u001b[0;34m\u001b[0m\u001b[0m\n\u001b[1;32m    456\u001b[0m     \u001b[0;31m# Create the parser.\u001b[0m\u001b[0;34m\u001b[0m\u001b[0;34m\u001b[0m\u001b[0;34m\u001b[0m\u001b[0m\n\u001b[0;32m--> 457\u001b[0;31m     \u001b[0mparser\u001b[0m \u001b[0;34m=\u001b[0m \u001b[0mTextFileReader\u001b[0m\u001b[0;34m(\u001b[0m\u001b[0mfp_or_buf\u001b[0m\u001b[0;34m,\u001b[0m \u001b[0;34m**\u001b[0m\u001b[0mkwds\u001b[0m\u001b[0;34m)\u001b[0m\u001b[0;34m\u001b[0m\u001b[0;34m\u001b[0m\u001b[0m\n\u001b[0m\u001b[1;32m    458\u001b[0m \u001b[0;34m\u001b[0m\u001b[0m\n\u001b[1;32m    459\u001b[0m     \u001b[0;32mif\u001b[0m \u001b[0mchunksize\u001b[0m \u001b[0;32mor\u001b[0m \u001b[0miterator\u001b[0m\u001b[0;34m:\u001b[0m\u001b[0;34m\u001b[0m\u001b[0;34m\u001b[0m\u001b[0m\n",
      "\u001b[0;32m/usr/local/lib/python3.6/dist-packages/pandas/io/parsers.py\u001b[0m in \u001b[0;36m__init__\u001b[0;34m(self, f, engine, **kwds)\u001b[0m\n\u001b[1;32m    893\u001b[0m             \u001b[0mself\u001b[0m\u001b[0;34m.\u001b[0m\u001b[0moptions\u001b[0m\u001b[0;34m[\u001b[0m\u001b[0;34m\"has_index_names\"\u001b[0m\u001b[0;34m]\u001b[0m \u001b[0;34m=\u001b[0m \u001b[0mkwds\u001b[0m\u001b[0;34m[\u001b[0m\u001b[0;34m\"has_index_names\"\u001b[0m\u001b[0;34m]\u001b[0m\u001b[0;34m\u001b[0m\u001b[0;34m\u001b[0m\u001b[0m\n\u001b[1;32m    894\u001b[0m \u001b[0;34m\u001b[0m\u001b[0m\n\u001b[0;32m--> 895\u001b[0;31m         \u001b[0mself\u001b[0m\u001b[0;34m.\u001b[0m\u001b[0m_make_engine\u001b[0m\u001b[0;34m(\u001b[0m\u001b[0mself\u001b[0m\u001b[0;34m.\u001b[0m\u001b[0mengine\u001b[0m\u001b[0;34m)\u001b[0m\u001b[0;34m\u001b[0m\u001b[0;34m\u001b[0m\u001b[0m\n\u001b[0m\u001b[1;32m    896\u001b[0m \u001b[0;34m\u001b[0m\u001b[0m\n\u001b[1;32m    897\u001b[0m     \u001b[0;32mdef\u001b[0m \u001b[0mclose\u001b[0m\u001b[0;34m(\u001b[0m\u001b[0mself\u001b[0m\u001b[0;34m)\u001b[0m\u001b[0;34m:\u001b[0m\u001b[0;34m\u001b[0m\u001b[0;34m\u001b[0m\u001b[0m\n",
      "\u001b[0;32m/usr/local/lib/python3.6/dist-packages/pandas/io/parsers.py\u001b[0m in \u001b[0;36m_make_engine\u001b[0;34m(self, engine)\u001b[0m\n\u001b[1;32m   1133\u001b[0m     \u001b[0;32mdef\u001b[0m \u001b[0m_make_engine\u001b[0m\u001b[0;34m(\u001b[0m\u001b[0mself\u001b[0m\u001b[0;34m,\u001b[0m \u001b[0mengine\u001b[0m\u001b[0;34m=\u001b[0m\u001b[0;34m\"c\"\u001b[0m\u001b[0;34m)\u001b[0m\u001b[0;34m:\u001b[0m\u001b[0;34m\u001b[0m\u001b[0;34m\u001b[0m\u001b[0m\n\u001b[1;32m   1134\u001b[0m         \u001b[0;32mif\u001b[0m \u001b[0mengine\u001b[0m \u001b[0;34m==\u001b[0m \u001b[0;34m\"c\"\u001b[0m\u001b[0;34m:\u001b[0m\u001b[0;34m\u001b[0m\u001b[0;34m\u001b[0m\u001b[0m\n\u001b[0;32m-> 1135\u001b[0;31m             \u001b[0mself\u001b[0m\u001b[0;34m.\u001b[0m\u001b[0m_engine\u001b[0m \u001b[0;34m=\u001b[0m \u001b[0mCParserWrapper\u001b[0m\u001b[0;34m(\u001b[0m\u001b[0mself\u001b[0m\u001b[0;34m.\u001b[0m\u001b[0mf\u001b[0m\u001b[0;34m,\u001b[0m \u001b[0;34m**\u001b[0m\u001b[0mself\u001b[0m\u001b[0;34m.\u001b[0m\u001b[0moptions\u001b[0m\u001b[0;34m)\u001b[0m\u001b[0;34m\u001b[0m\u001b[0;34m\u001b[0m\u001b[0m\n\u001b[0m\u001b[1;32m   1136\u001b[0m         \u001b[0;32melse\u001b[0m\u001b[0;34m:\u001b[0m\u001b[0;34m\u001b[0m\u001b[0;34m\u001b[0m\u001b[0m\n\u001b[1;32m   1137\u001b[0m             \u001b[0;32mif\u001b[0m \u001b[0mengine\u001b[0m \u001b[0;34m==\u001b[0m \u001b[0;34m\"python\"\u001b[0m\u001b[0;34m:\u001b[0m\u001b[0;34m\u001b[0m\u001b[0;34m\u001b[0m\u001b[0m\n",
      "\u001b[0;32m/usr/local/lib/python3.6/dist-packages/pandas/io/parsers.py\u001b[0m in \u001b[0;36m__init__\u001b[0;34m(self, src, **kwds)\u001b[0m\n\u001b[1;32m   1915\u001b[0m         \u001b[0mkwds\u001b[0m\u001b[0;34m[\u001b[0m\u001b[0;34m\"usecols\"\u001b[0m\u001b[0;34m]\u001b[0m \u001b[0;34m=\u001b[0m \u001b[0mself\u001b[0m\u001b[0;34m.\u001b[0m\u001b[0musecols\u001b[0m\u001b[0;34m\u001b[0m\u001b[0;34m\u001b[0m\u001b[0m\n\u001b[1;32m   1916\u001b[0m \u001b[0;34m\u001b[0m\u001b[0m\n\u001b[0;32m-> 1917\u001b[0;31m         \u001b[0mself\u001b[0m\u001b[0;34m.\u001b[0m\u001b[0m_reader\u001b[0m \u001b[0;34m=\u001b[0m \u001b[0mparsers\u001b[0m\u001b[0;34m.\u001b[0m\u001b[0mTextReader\u001b[0m\u001b[0;34m(\u001b[0m\u001b[0msrc\u001b[0m\u001b[0;34m,\u001b[0m \u001b[0;34m**\u001b[0m\u001b[0mkwds\u001b[0m\u001b[0;34m)\u001b[0m\u001b[0;34m\u001b[0m\u001b[0;34m\u001b[0m\u001b[0m\n\u001b[0m\u001b[1;32m   1918\u001b[0m         \u001b[0mself\u001b[0m\u001b[0;34m.\u001b[0m\u001b[0munnamed_cols\u001b[0m \u001b[0;34m=\u001b[0m \u001b[0mself\u001b[0m\u001b[0;34m.\u001b[0m\u001b[0m_reader\u001b[0m\u001b[0;34m.\u001b[0m\u001b[0munnamed_cols\u001b[0m\u001b[0;34m\u001b[0m\u001b[0;34m\u001b[0m\u001b[0m\n\u001b[1;32m   1919\u001b[0m \u001b[0;34m\u001b[0m\u001b[0m\n",
      "\u001b[0;32mpandas/_libs/parsers.pyx\u001b[0m in \u001b[0;36mpandas._libs.parsers.TextReader.__cinit__\u001b[0;34m()\u001b[0m\n",
      "\u001b[0;32mpandas/_libs/parsers.pyx\u001b[0m in \u001b[0;36mpandas._libs.parsers.TextReader._setup_parser_source\u001b[0;34m()\u001b[0m\n",
      "\u001b[0;31mFileNotFoundError\u001b[0m: [Errno 2] File b'sample.csv' does not exist: b'sample.csv'"
     ]
    }
   ],
   "source": [
    "import pandas as pd\n",
    "df2 = pd.read_csv(\"sample.csv\")\n",
    "\n",
    "df2"
   ]
  },
  {
   "cell_type": "code",
   "execution_count": null,
   "metadata": {
    "colab": {},
    "colab_type": "code",
    "id": "j4R-iaxLLKld"
   },
   "outputs": [],
   "source": [
    "!ls"
   ]
  },
  {
   "cell_type": "markdown",
   "metadata": {
    "colab_type": "text",
    "id": "xbrfetc9BO-2"
   },
   "source": [
    "# Αποθήκευση dataframe ως csv"
   ]
  },
  {
   "cell_type": "code",
   "execution_count": 23,
   "metadata": {
    "colab": {
     "base_uri": "https://localhost:8080/",
     "height": 206
    },
    "colab_type": "code",
    "executionInfo": {
     "elapsed": 930,
     "status": "ok",
     "timestamp": 1583755141290,
     "user": {
      "displayName": "George Tsatiris",
      "photoUrl": "https://lh3.googleusercontent.com/a-/AOh14GiwBAqDNcJQEsOKpxqRB16QLb6LtWjG6K_TDyVK=s64",
      "userId": "02159147374553663960"
     },
     "user_tz": -120
    },
    "id": "PvL6yNObBO-7",
    "outputId": "7a2d4327-9d9b-410f-c046-c2a33b14ccde"
   },
   "outputs": [
    {
     "data": {
      "text/html": [
       "<div>\n",
       "<style scoped>\n",
       "    .dataframe tbody tr th:only-of-type {\n",
       "        vertical-align: middle;\n",
       "    }\n",
       "\n",
       "    .dataframe tbody tr th {\n",
       "        vertical-align: top;\n",
       "    }\n",
       "\n",
       "    .dataframe thead th {\n",
       "        text-align: right;\n",
       "    }\n",
       "</style>\n",
       "<table border=\"1\" class=\"dataframe\">\n",
       "  <thead>\n",
       "    <tr style=\"text-align: right;\">\n",
       "      <th></th>\n",
       "      <th>first_name</th>\n",
       "      <th>last_name</th>\n",
       "      <th>age</th>\n",
       "      <th>preTestScore</th>\n",
       "      <th>postTestScore</th>\n",
       "    </tr>\n",
       "  </thead>\n",
       "  <tbody>\n",
       "    <tr>\n",
       "      <th>0</th>\n",
       "      <td>Jason</td>\n",
       "      <td>Miller</td>\n",
       "      <td>42</td>\n",
       "      <td>4</td>\n",
       "      <td>25</td>\n",
       "    </tr>\n",
       "    <tr>\n",
       "      <th>1</th>\n",
       "      <td>Molly</td>\n",
       "      <td>Jacobson</td>\n",
       "      <td>52</td>\n",
       "      <td>24</td>\n",
       "      <td>94</td>\n",
       "    </tr>\n",
       "    <tr>\n",
       "      <th>2</th>\n",
       "      <td>Tina</td>\n",
       "      <td>Ali</td>\n",
       "      <td>36</td>\n",
       "      <td>31</td>\n",
       "      <td>57</td>\n",
       "    </tr>\n",
       "    <tr>\n",
       "      <th>3</th>\n",
       "      <td>Jake</td>\n",
       "      <td>Milner</td>\n",
       "      <td>24</td>\n",
       "      <td>2</td>\n",
       "      <td>62</td>\n",
       "    </tr>\n",
       "    <tr>\n",
       "      <th>4</th>\n",
       "      <td>Amy</td>\n",
       "      <td>Cooze</td>\n",
       "      <td>73</td>\n",
       "      <td>3</td>\n",
       "      <td>70</td>\n",
       "    </tr>\n",
       "  </tbody>\n",
       "</table>\n",
       "</div>"
      ],
      "text/plain": [
       "  first_name last_name  age  preTestScore  postTestScore\n",
       "0      Jason    Miller   42             4             25\n",
       "1      Molly  Jacobson   52            24             94\n",
       "2       Tina       Ali   36            31             57\n",
       "3       Jake    Milner   24             2             62\n",
       "4        Amy     Cooze   73             3             70"
      ]
     },
     "execution_count": 23,
     "metadata": {
      "tags": []
     },
     "output_type": "execute_result"
    }
   ],
   "source": [
    "raw_data = {'first_name': ['Jason', 'Molly', 'Tina', 'Jake', 'Amy'], \n",
    "        'last_name': ['Miller', 'Jacobson', 'Ali', 'Milner', 'Cooze'], \n",
    "        'age': [42, 52, 36, 24, 73], \n",
    "        'preTestScore': [4, 24, 31, 2, 3],\n",
    "        'postTestScore': [25, 94, 57, 62, 70]}\n",
    "df = pd.DataFrame(raw_data, columns = ['first_name', 'last_name', 'age', 'preTestScore', 'postTestScore'])\n",
    "df"
   ]
  },
  {
   "cell_type": "code",
   "execution_count": null,
   "metadata": {
    "colab": {},
    "colab_type": "code",
    "id": "Q4aOR338BO_N"
   },
   "outputs": [],
   "source": [
    "df.to_csv('example.csv')"
   ]
  },
  {
   "cell_type": "code",
   "execution_count": 25,
   "metadata": {
    "colab": {
     "base_uri": "https://localhost:8080/",
     "height": 35
    },
    "colab_type": "code",
    "executionInfo": {
     "elapsed": 2622,
     "status": "ok",
     "timestamp": 1583755204966,
     "user": {
      "displayName": "George Tsatiris",
      "photoUrl": "https://lh3.googleusercontent.com/a-/AOh14GiwBAqDNcJQEsOKpxqRB16QLb6LtWjG6K_TDyVK=s64",
      "userId": "02159147374553663960"
     },
     "user_tz": -120
    },
    "id": "w2VoGHV-LhD2",
    "outputId": "7996d281-2b9d-45b7-90e6-eecf46a72a3c"
   },
   "outputs": [
    {
     "name": "stdout",
     "output_type": "stream",
     "text": [
      "example.csv  pythoncode.py  sample_data\n"
     ]
    }
   ],
   "source": [
    "!ls"
   ]
  },
  {
   "cell_type": "markdown",
   "metadata": {
    "colab_type": "text",
    "id": "5zPqpyVmBO_r"
   },
   "source": [
    "Μπορείτε να το δείτε στο library και να κάνετε download."
   ]
  },
  {
   "cell_type": "code",
   "execution_count": 26,
   "metadata": {
    "colab": {
     "base_uri": "https://localhost:8080/",
     "height": 882
    },
    "colab_type": "code",
    "executionInfo": {
     "elapsed": 901,
     "status": "ok",
     "timestamp": 1583755253730,
     "user": {
      "displayName": "George Tsatiris",
      "photoUrl": "https://lh3.googleusercontent.com/a-/AOh14GiwBAqDNcJQEsOKpxqRB16QLb6LtWjG6K_TDyVK=s64",
      "userId": "02159147374553663960"
     },
     "user_tz": -120
    },
    "id": "tX-zA11ZBO_x",
    "outputId": "d1e8c8cf-4a10-47c2-dfd6-6c2fde4f7c64"
   },
   "outputs": [
    {
     "data": {
      "text/html": [
       "<h1> Αυτό είναι HTML </h1>\n",
       "<img src=\"https://blog.dominodatalab.com/wp-content/uploads/2016/05/Screen-Shot-2015-11-02-at-10-20-38-PM.png\">"
      ],
      "text/plain": [
       "<IPython.core.display.HTML object>"
      ]
     },
     "metadata": {
      "tags": []
     },
     "output_type": "display_data"
    }
   ],
   "source": [
    "%%HTML\n",
    "<h1> Αυτό είναι HTML </h1>\n",
    "<img src=\"https://blog.dominodatalab.com/wp-content/uploads/2016/05/Screen-Shot-2015-11-02-at-10-20-38-PM.png\">"
   ]
  },
  {
   "cell_type": "markdown",
   "metadata": {
    "colab_type": "text",
    "id": "lCfrHJoWBPAG"
   },
   "source": [
    "# Interactive input - widgets"
   ]
  },
  {
   "cell_type": "code",
   "execution_count": 27,
   "metadata": {
    "colab": {
     "base_uri": "https://localhost:8080/",
     "height": 749,
     "referenced_widgets": [
      "fe7af0af908b421d99229997e5fd41f7",
      "94b445cd0f654d96aa905871967bffdc",
      "147cef8a689d425e91f06d5765e34419"
     ]
    },
    "colab_type": "code",
    "executionInfo": {
     "elapsed": 13656,
     "status": "ok",
     "timestamp": 1583755327225,
     "user": {
      "displayName": "George Tsatiris",
      "photoUrl": "https://lh3.googleusercontent.com/a-/AOh14GiwBAqDNcJQEsOKpxqRB16QLb6LtWjG6K_TDyVK=s64",
      "userId": "02159147374553663960"
     },
     "user_tz": -120
    },
    "id": "gxgwJdGZBPAQ",
    "outputId": "5090544d-40e6-4c06-e148-f631302d704a"
   },
   "outputs": [
    {
     "name": "stdout",
     "output_type": "stream",
     "text": [
      "Requirement already satisfied: ipywidgets in /usr/local/lib/python3.6/dist-packages (7.5.1)\n",
      "Requirement already satisfied: traitlets>=4.3.1 in /usr/local/lib/python3.6/dist-packages (from ipywidgets) (4.3.3)\n",
      "Requirement already satisfied: widgetsnbextension~=3.5.0 in /usr/local/lib/python3.6/dist-packages (from ipywidgets) (3.5.1)\n",
      "Requirement already satisfied: ipython>=4.0.0; python_version >= \"3.3\" in /usr/local/lib/python3.6/dist-packages (from ipywidgets) (5.5.0)\n",
      "Requirement already satisfied: nbformat>=4.2.0 in /usr/local/lib/python3.6/dist-packages (from ipywidgets) (5.0.4)\n",
      "Requirement already satisfied: ipykernel>=4.5.1 in /usr/local/lib/python3.6/dist-packages (from ipywidgets) (4.6.1)\n",
      "Requirement already satisfied: six in /usr/local/lib/python3.6/dist-packages (from traitlets>=4.3.1->ipywidgets) (1.12.0)\n",
      "Requirement already satisfied: decorator in /usr/local/lib/python3.6/dist-packages (from traitlets>=4.3.1->ipywidgets) (4.4.1)\n",
      "Requirement already satisfied: ipython-genutils in /usr/local/lib/python3.6/dist-packages (from traitlets>=4.3.1->ipywidgets) (0.2.0)\n",
      "Requirement already satisfied: notebook>=4.4.1 in /usr/local/lib/python3.6/dist-packages (from widgetsnbextension~=3.5.0->ipywidgets) (5.2.2)\n",
      "Requirement already satisfied: pickleshare in /usr/local/lib/python3.6/dist-packages (from ipython>=4.0.0; python_version >= \"3.3\"->ipywidgets) (0.7.5)\n",
      "Requirement already satisfied: setuptools>=18.5 in /usr/local/lib/python3.6/dist-packages (from ipython>=4.0.0; python_version >= \"3.3\"->ipywidgets) (45.2.0)\n",
      "Requirement already satisfied: prompt-toolkit<2.0.0,>=1.0.4 in /usr/local/lib/python3.6/dist-packages (from ipython>=4.0.0; python_version >= \"3.3\"->ipywidgets) (1.0.18)\n",
      "Requirement already satisfied: pexpect; sys_platform != \"win32\" in /usr/local/lib/python3.6/dist-packages (from ipython>=4.0.0; python_version >= \"3.3\"->ipywidgets) (4.8.0)\n",
      "Requirement already satisfied: simplegeneric>0.8 in /usr/local/lib/python3.6/dist-packages (from ipython>=4.0.0; python_version >= \"3.3\"->ipywidgets) (0.8.1)\n",
      "Requirement already satisfied: pygments in /usr/local/lib/python3.6/dist-packages (from ipython>=4.0.0; python_version >= \"3.3\"->ipywidgets) (2.1.3)\n",
      "Requirement already satisfied: jsonschema!=2.5.0,>=2.4 in /usr/local/lib/python3.6/dist-packages (from nbformat>=4.2.0->ipywidgets) (2.6.0)\n",
      "Requirement already satisfied: jupyter-core in /usr/local/lib/python3.6/dist-packages (from nbformat>=4.2.0->ipywidgets) (4.6.2)\n",
      "Requirement already satisfied: tornado>=4.0 in /usr/local/lib/python3.6/dist-packages (from ipykernel>=4.5.1->ipywidgets) (4.5.3)\n",
      "Requirement already satisfied: jupyter-client in /usr/local/lib/python3.6/dist-packages (from ipykernel>=4.5.1->ipywidgets) (5.3.4)\n",
      "Requirement already satisfied: terminado>=0.3.3; sys_platform != \"win32\" in /usr/local/lib/python3.6/dist-packages (from notebook>=4.4.1->widgetsnbextension~=3.5.0->ipywidgets) (0.8.3)\n",
      "Requirement already satisfied: jinja2 in /usr/local/lib/python3.6/dist-packages (from notebook>=4.4.1->widgetsnbextension~=3.5.0->ipywidgets) (2.11.1)\n",
      "Requirement already satisfied: nbconvert in /usr/local/lib/python3.6/dist-packages (from notebook>=4.4.1->widgetsnbextension~=3.5.0->ipywidgets) (5.6.1)\n",
      "Requirement already satisfied: wcwidth in /usr/local/lib/python3.6/dist-packages (from prompt-toolkit<2.0.0,>=1.0.4->ipython>=4.0.0; python_version >= \"3.3\"->ipywidgets) (0.1.8)\n",
      "Requirement already satisfied: ptyprocess>=0.5 in /usr/local/lib/python3.6/dist-packages (from pexpect; sys_platform != \"win32\"->ipython>=4.0.0; python_version >= \"3.3\"->ipywidgets) (0.6.0)\n",
      "Requirement already satisfied: pyzmq>=13 in /usr/local/lib/python3.6/dist-packages (from jupyter-client->ipykernel>=4.5.1->ipywidgets) (17.0.0)\n",
      "Requirement already satisfied: python-dateutil>=2.1 in /usr/local/lib/python3.6/dist-packages (from jupyter-client->ipykernel>=4.5.1->ipywidgets) (2.6.1)\n",
      "Requirement already satisfied: MarkupSafe>=0.23 in /usr/local/lib/python3.6/dist-packages (from jinja2->notebook>=4.4.1->widgetsnbextension~=3.5.0->ipywidgets) (1.1.1)\n",
      "Requirement already satisfied: bleach in /usr/local/lib/python3.6/dist-packages (from nbconvert->notebook>=4.4.1->widgetsnbextension~=3.5.0->ipywidgets) (3.1.0)\n",
      "Requirement already satisfied: testpath in /usr/local/lib/python3.6/dist-packages (from nbconvert->notebook>=4.4.1->widgetsnbextension~=3.5.0->ipywidgets) (0.4.4)\n",
      "Requirement already satisfied: defusedxml in /usr/local/lib/python3.6/dist-packages (from nbconvert->notebook>=4.4.1->widgetsnbextension~=3.5.0->ipywidgets) (0.6.0)\n",
      "Requirement already satisfied: entrypoints>=0.2.2 in /usr/local/lib/python3.6/dist-packages (from nbconvert->notebook>=4.4.1->widgetsnbextension~=3.5.0->ipywidgets) (0.3)\n",
      "Requirement already satisfied: mistune<2,>=0.8.1 in /usr/local/lib/python3.6/dist-packages (from nbconvert->notebook>=4.4.1->widgetsnbextension~=3.5.0->ipywidgets) (0.8.4)\n",
      "Requirement already satisfied: pandocfilters>=1.4.1 in /usr/local/lib/python3.6/dist-packages (from nbconvert->notebook>=4.4.1->widgetsnbextension~=3.5.0->ipywidgets) (1.4.2)\n",
      "Requirement already satisfied: webencodings in /usr/local/lib/python3.6/dist-packages (from bleach->nbconvert->notebook>=4.4.1->widgetsnbextension~=3.5.0->ipywidgets) (0.5.1)\n"
     ]
    },
    {
     "data": {
      "application/vnd.jupyter.widget-view+json": {
       "model_id": "fe7af0af908b421d99229997e5fd41f7",
       "version_major": 2,
       "version_minor": 0
      },
      "text/plain": [
       "Text(value='')"
      ]
     },
     "metadata": {
      "tags": []
     },
     "output_type": "display_data"
    },
    {
     "name": "stdout",
     "output_type": "stream",
     "text": [
      "6\n",
      "6\n"
     ]
    }
   ],
   "source": [
    "!pip install ipywidgets\n",
    "from ipywidgets import widgets\n",
    "from IPython.display import display\n",
    "text = widgets.Text()\n",
    "display(text)\n",
    "\n",
    "def handle_submit(sender):\n",
    "\tprint(text.value)\n",
    "\t\n",
    "text.on_submit(handle_submit)"
   ]
  },
  {
   "cell_type": "code",
   "execution_count": null,
   "metadata": {
    "colab": {},
    "colab_type": "code",
    "id": "jYHa8J4JL2dD"
   },
   "outputs": [],
   "source": [
    "from ipywidgets import widgets\n",
    "from IPython.display import display\n",
    "text = widgets.Text()\n",
    "display(text)\n",
    "\n",
    "def handle_submit(sender):\n",
    "\tprint(text.value)\n",
    "\t\n",
    "text.on_submit(handle_submit)"
   ]
  },
  {
   "cell_type": "code",
   "execution_count": null,
   "metadata": {
    "colab": {},
    "colab_type": "code",
    "id": "0O6R26XtMKrS"
   },
   "outputs": [],
   "source": []
  }
 ],
 "metadata": {
  "accelerator": "GPU",
  "colab": {
   "name": " Lab 1 Notebooks intro.ipynb",
   "provenance": [],
   "toc_visible": true
  },
  "kernelspec": {
   "display_name": "Python 3",
   "language": "python",
   "name": "python3"
  },
  "language_info": {
   "codemirror_mode": {
    "name": "ipython",
    "version": 3
   },
   "file_extension": ".py",
   "mimetype": "text/x-python",
   "name": "python",
   "nbconvert_exporter": "python",
   "pygments_lexer": "ipython3",
   "version": "3.7.4"
  },
  "widgets": {
   "application/vnd.jupyter.widget-state+json": {
    "147cef8a689d425e91f06d5765e34419": {
     "model_module": "@jupyter-widgets/base",
     "model_name": "LayoutModel",
     "state": {
      "_model_module": "@jupyter-widgets/base",
      "_model_module_version": "1.2.0",
      "_model_name": "LayoutModel",
      "_view_count": null,
      "_view_module": "@jupyter-widgets/base",
      "_view_module_version": "1.2.0",
      "_view_name": "LayoutView",
      "align_content": null,
      "align_items": null,
      "align_self": null,
      "border": null,
      "bottom": null,
      "display": null,
      "flex": null,
      "flex_flow": null,
      "grid_area": null,
      "grid_auto_columns": null,
      "grid_auto_flow": null,
      "grid_auto_rows": null,
      "grid_column": null,
      "grid_gap": null,
      "grid_row": null,
      "grid_template_areas": null,
      "grid_template_columns": null,
      "grid_template_rows": null,
      "height": null,
      "justify_content": null,
      "justify_items": null,
      "left": null,
      "margin": null,
      "max_height": null,
      "max_width": null,
      "min_height": null,
      "min_width": null,
      "object_fit": null,
      "object_position": null,
      "order": null,
      "overflow": null,
      "overflow_x": null,
      "overflow_y": null,
      "padding": null,
      "right": null,
      "top": null,
      "visibility": null,
      "width": null
     }
    },
    "94b445cd0f654d96aa905871967bffdc": {
     "model_module": "@jupyter-widgets/controls",
     "model_name": "DescriptionStyleModel",
     "state": {
      "_model_module": "@jupyter-widgets/controls",
      "_model_module_version": "1.5.0",
      "_model_name": "DescriptionStyleModel",
      "_view_count": null,
      "_view_module": "@jupyter-widgets/base",
      "_view_module_version": "1.2.0",
      "_view_name": "StyleView",
      "description_width": ""
     }
    },
    "fe7af0af908b421d99229997e5fd41f7": {
     "model_module": "@jupyter-widgets/controls",
     "model_name": "TextModel",
     "state": {
      "_dom_classes": [],
      "_model_module": "@jupyter-widgets/controls",
      "_model_module_version": "1.5.0",
      "_model_name": "TextModel",
      "_view_count": null,
      "_view_module": "@jupyter-widgets/controls",
      "_view_module_version": "1.5.0",
      "_view_name": "TextView",
      "continuous_update": true,
      "description": "",
      "description_tooltip": null,
      "disabled": false,
      "layout": "IPY_MODEL_147cef8a689d425e91f06d5765e34419",
      "placeholder": "​",
      "style": "IPY_MODEL_94b445cd0f654d96aa905871967bffdc",
      "value": "67868678"
     }
    }
   }
  }
 },
 "nbformat": 4,
 "nbformat_minor": 4
}
