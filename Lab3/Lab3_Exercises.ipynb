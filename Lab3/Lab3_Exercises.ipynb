{
  "nbformat": 4,
  "nbformat_minor": 0,
  "metadata": {
    "colab": {
      "name": "Lab3_Exercises.ipynb",
      "provenance": []
    },
    "kernelspec": {
      "name": "python3",
      "display_name": "Python 3"
    }
  },
  "cells": [
    {
      "cell_type": "markdown",
      "metadata": {
        "id": "N5SkTOu-vZZP",
        "colab_type": "text"
      },
      "source": [
        "# Άσκηση 1\n",
        "## Ιδιότητες μετασχηματισμού FFT σε πραγματικές εικόνες"
      ]
    },
    {
      "cell_type": "markdown",
      "metadata": {
        "id": "UL_Vp0E8uzy-",
        "colab_type": "text"
      },
      "source": [
        "Εφαρμόστε τις ιδιότητες του μετασχηματισμού FFT στις δύο εικόνες (house.tif και woman_blonde.tif) που θα βρείτε <a href=\"https://drive.google.com/file/d/1lbWM5YTl0nVqH5XA-f-Eow1qUI2MLQWo/view?usp=sharing\">εδώ</a> και χρησιμοποιώντας την εξίσωση (3), απεικονίστε τα εξής:\n",
        "\n",
        "> α) τις αρχικές εικόνες\n",
        "\n",
        "> β) τη γωνία φάσης και το φάσμα των εικόνων αυτών\n",
        "\n",
        "> γ) την ανακατασκευή των αρχικών εικόνων χρησιμοποιώντας μόνο το φάσμα\n",
        "\n",
        "> δ) την ανακατασκευή των αρχικών εικόνων χρησιμοποιώντας τη γωνία φάση \n",
        "\n",
        "> ε) την ανακατασκευή της αρχικής εικόνας woman_blonde.tif χρησιμοποιώντας τη γωνία φάση αυτής της εικόνας και το φάσμα της εικόνας house.tif"
      ]
    },
    {
      "cell_type": "markdown",
      "metadata": {
        "id": "BB_KcflFTdio",
        "colab_type": "text"
      },
      "source": [
        "Import functions and libraries"
      ]
    },
    {
      "cell_type": "code",
      "metadata": {
        "id": "jH5iwVPdIST5",
        "colab_type": "code",
        "colab": {}
      },
      "source": [
        ""
      ],
      "execution_count": 0,
      "outputs": []
    },
    {
      "cell_type": "markdown",
      "metadata": {
        "id": "HBzlWxfeTg1P",
        "colab_type": "text"
      },
      "source": [
        "Εμφάνιση αρχικών εικόνων και έλεγχος διάστασης τους(Να έχουν την ίδια διάσταση)"
      ]
    },
    {
      "cell_type": "code",
      "metadata": {
        "id": "53S5a284RF_C",
        "colab_type": "code",
        "colab": {}
      },
      "source": [
        ""
      ],
      "execution_count": 0,
      "outputs": []
    },
    {
      "cell_type": "markdown",
      "metadata": {
        "id": "722Cosq4Tle9",
        "colab_type": "text"
      },
      "source": [
        "Εφαρμογή fft2 σε ολόκληρη την εικόνα (και για τις 2 εικόνες)"
      ]
    },
    {
      "cell_type": "code",
      "metadata": {
        "id": "NpctcOjsRUwM",
        "colab_type": "code",
        "colab": {}
      },
      "source": [
        ""
      ],
      "execution_count": 0,
      "outputs": []
    },
    {
      "cell_type": "markdown",
      "metadata": {
        "id": "Xuq10qcKTodG",
        "colab_type": "text"
      },
      "source": [
        "β) Γωνία φάσης και φάσμα των εικόνων : Υπολογισμός απεικόνιση και για τις δύο εικόνες"
      ]
    },
    {
      "cell_type": "code",
      "metadata": {
        "id": "biSYw6_GRgJK",
        "colab_type": "code",
        "colab": {}
      },
      "source": [
        ""
      ],
      "execution_count": 0,
      "outputs": []
    },
    {
      "cell_type": "markdown",
      "metadata": {
        "id": "m8W7KUSVSq1V",
        "colab_type": "text"
      },
      "source": [
        " γ)+ δ) την ανακατασκευή των αρχικών εικόνων χρησιμοποιώντας μόνο το φάσμα ή μόνο τη φάση: Χρήση της εξίσωσης $$F(u,v)=|F(u,v)|e^{-jφ(u,v)}\\;(3)$$ \n",
        "\n",
        " "
      ]
    },
    {
      "cell_type": "code",
      "metadata": {
        "id": "F2DIdm72Rvgr",
        "colab_type": "code",
        "colab": {}
      },
      "source": [
        ""
      ],
      "execution_count": 0,
      "outputs": []
    },
    {
      "cell_type": "markdown",
      "metadata": {
        "id": "C_aLLZoYTuhm",
        "colab_type": "text"
      },
      "source": [
        "ε) την ανακατασκευή της αρχικής εικόνας woman_blonde.tif χρησιμοποιώντας τη γωνία φάση αυτής της εικόνας και το φάσμα της εικόνας house.tif (χρήση της εξίσωσης 3)"
      ]
    }
  ]
}